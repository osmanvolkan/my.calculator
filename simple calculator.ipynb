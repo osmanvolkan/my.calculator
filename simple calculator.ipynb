{
 "cells": [
  {
   "cell_type": "code",
   "execution_count": 1,
   "id": "a7e5dac7",
   "metadata": {},
   "outputs": [
    {
     "name": "stdout",
     "output_type": "stream",
     "text": [
      "Choose add(1),substract(2),multiply(3),divide(4)\n",
      "select 1,2,3 or 4: 3\n",
      "first value: 2\n",
      "second value: 2\n",
      "Result:4.0\n"
     ]
    }
   ],
   "source": [
    "class Calc(object):\n",
    "    \"Calculator\"\n",
    "    def __init__(self,a,b):\n",
    "        \"initialize values\"\n",
    "        self.value1= a\n",
    "        self.value2= b \n",
    "    def add(self):          \n",
    "        return self.value1 +self.value2\n",
    "    def substract(self):        \n",
    "        return self.value1-self.value2\n",
    "    def multiply(self):        \n",
    "        return self.value1*self.value2\n",
    "    def division(self):    \n",
    "        return self.value1/self.value2\n",
    "\n",
    "print (\"Choose add(1),substract(2),multiply(3),divide(4)\")\n",
    "selection=input(\"select 1,2,3 or 4: \")\n",
    "v1=float(input(\"first value: \"))\n",
    "v2=float(input(\"second value: \"))\n",
    "c1=Calc(v1,v2)\n",
    "\n",
    "\n",
    "if selection==\"1\":\n",
    "        add_result = c1.add()\n",
    "        print(\"Result: {}\".format(add_result))\n",
    "elif selection==\"2\":\n",
    "        substract_result=c1.substract()\n",
    "        print(\"Result: {}\".format(substract_result))\n",
    "elif selection==\"3\":\n",
    "        multiply_result=c1.multiply()\n",
    "        print(\"Result:{}\".format(multiply_result))\n",
    "elif selection==\"4\":\n",
    "        division_result=c1.division()\n",
    "        print(\"Result: {}\".format(division_result))\n",
    "else:\n",
    "        print(\"Error: there is no proper selection\")"
   ]
  },
  {
   "cell_type": "code",
   "execution_count": null,
   "id": "a5b20206",
   "metadata": {},
   "outputs": [],
   "source": []
  }
 ],
 "metadata": {
  "kernelspec": {
   "display_name": "Python 3 (ipykernel)",
   "language": "python",
   "name": "python3"
  },
  "language_info": {
   "codemirror_mode": {
    "name": "ipython",
    "version": 3
   },
   "file_extension": ".py",
   "mimetype": "text/x-python",
   "name": "python",
   "nbconvert_exporter": "python",
   "pygments_lexer": "ipython3",
   "version": "3.9.7"
  }
 },
 "nbformat": 4,
 "nbformat_minor": 5
}
